{
 "cells": [
  {
   "cell_type": "code",
   "execution_count": 5,
   "id": "a5bf44a9",
   "metadata": {},
   "outputs": [
    {
     "name": "stdout",
     "output_type": "stream",
     "text": [
      "If you want to change your sentence to a password, enter \"password\":\n",
      "if you want to change your password to a sentence enter\"sentence\":\n",
      "sentence\n",
      "if you want to input here, enter \"here\":\n",
      "if you want to enter from file, enter \"file\":\n",
      "file\n",
      "Name the txt file as \"sentence\" and put it in this folder.\n",
      "**your sentence save on your file.**\n"
     ]
    }
   ],
   "source": [
    "import changer_2\n",
    "import string\n",
    "import random\n",
    "\n",
    "\n",
    "typee=input('If you want to change your sentence to a password, enter \"password\":\\nif you want to change your password to a sentence enter\"sentence\":\\n')\n",
    "\n",
    "input_type=input('if you want to input here, enter \"here\":\\nif you want to enter from file, enter \"file\":\\n')\n",
    "\n",
    "if typee==\"password\":\n",
    "    \n",
    "    if input_type=='here':\n",
    "        password=input('enter your sentence: ')\n",
    "        print('your password is: ' ,changer_2.password_creat(password))\n",
    "    elif input_type=='file':\n",
    "        print('Name the txt file as \"password\" and put it in this folder.')\n",
    "        with open('password.txt',mode='r+') as file1:\n",
    "            a=file1.read()\n",
    "            b=changer_2.password_creat(a)\n",
    "            file1.write('\\n')\n",
    "            file1.write(b)\n",
    "        print(\"**your password save on your file.**\")\n",
    "    else:\n",
    "        print('**invalid answer please run again**')\n",
    "        \n",
    "        \n",
    "elif typee=='sentence':\n",
    "    \n",
    "    if input_type=='here': \n",
    "        sentence=input('enter your password: ')\n",
    "        print(\"your sentence is: \",changer_2.sentene_creat(sentence))\n",
    "    elif input_type=='file':\n",
    "        print('Name the txt file as \"sentence\" and put it in this folder.')\n",
    "        with open('sentence.txt',mode='r+') as file1:\n",
    "            c=file1.read()\n",
    "            d=changer_2.sentene_creat(c)\n",
    "            file1.write('\\n')\n",
    "            file1.write(d)\n",
    "        print(\"**your sentence save on your file.**\")\n",
    "    else:\n",
    "        print('**invalid answer please run again**')    \n",
    "    \n",
    "else:\n",
    "    print('**invalid answer please run again**')\n"
   ]
  }
 ],
 "metadata": {
  "kernelspec": {
   "display_name": "Python 3 (ipykernel)",
   "language": "python",
   "name": "python3"
  },
  "language_info": {
   "codemirror_mode": {
    "name": "ipython",
    "version": 3
   },
   "file_extension": ".py",
   "mimetype": "text/x-python",
   "name": "python",
   "nbconvert_exporter": "python",
   "pygments_lexer": "ipython3",
   "version": "3.11.5"
  }
 },
 "nbformat": 4,
 "nbformat_minor": 5
}
